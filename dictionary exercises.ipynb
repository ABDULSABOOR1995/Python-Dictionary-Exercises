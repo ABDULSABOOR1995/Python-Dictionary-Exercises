{
 "cells": [
  {
   "cell_type": "markdown",
   "metadata": {},
   "source": [
    "<b>1. Write a Python script to sort (ascending and descending)\n",
    "      a dictionary by key."
   ]
  },
  {
   "cell_type": "code",
   "execution_count": 20,
   "metadata": {},
   "outputs": [
    {
     "name": "stdout",
     "output_type": "stream",
     "text": [
      "In ascending order:\n",
      "{1: 'a', 2: 'b', 3: 'c', 4: 'd', 5: 'e'}\n",
      "In decending order:\n"
     ]
    },
    {
     "data": {
      "text/plain": [
       "{5: 'e', 4: 'e', 3: 'e', 2: 'e', 1: 'e'}"
      ]
     },
     "execution_count": 20,
     "metadata": {},
     "output_type": "execute_result"
    }
   ],
   "source": [
    "alphabets = {\n",
    "    5: 'e',\n",
    "    4: 'd',\n",
    "    3: 'c',\n",
    "    2: 'b',\n",
    "    1: 'a',\n",
    "}\n",
    "\n",
    "'''ascending order'''\n",
    "sorted_alphabets = {}\n",
    "for k, v in sorted(alphabets.items()):\n",
    "    sorted_alphabets[k] = v\n",
    "print(\"In ascending order:\")\n",
    "print(sorted_alphabets)\n",
    "\n",
    "'''descending order'''\n",
    "keys = []\n",
    "reverse_sort = {}\n",
    "for k in sorted_alphabets.keys():\n",
    "    keys.append(k)\n",
    "keys.reverse()\n",
    "for i in keys:\n",
    "    for k, v in sorted_alphabets.items():\n",
    "        if i in sorted_alphabets:\n",
    "            reverse_sort[i] = v\n",
    "print(\"In decending order:\")\n",
    "reverse_sort"
   ]
  },
  {
   "cell_type": "markdown",
   "metadata": {},
   "source": [
    "<b> 2. Write a Python program to add a key to a dictionary."
   ]
  },
  {
   "cell_type": "code",
   "execution_count": 21,
   "metadata": {},
   "outputs": [
    {
     "name": "stdout",
     "output_type": "stream",
     "text": [
      "{0: 10, 1: 20}\n",
      "{0: 10, 1: 20, 2: 30}\n"
     ]
    }
   ],
   "source": [
    "d = {0:10, 1:20}\n",
    "print(d)\n",
    "d.update({2:30})\n",
    "print(d)"
   ]
  },
  {
   "cell_type": "markdown",
   "metadata": {},
   "source": [
    "<b> 3. Write a Python script to concatenate following dictionaries to create a new one.</b>\n",
    "<br>\n",
    "Sample Dictionary : \n",
    "dic1={1:10, 2:20}, dic2={3:30, 4:40}, dic3={5:50,6:60}<br>\n",
    "Expected Result : {1: 10, 2: 20, 3: 30, 4: 40, 5: 50, 6: 60}\n"
   ]
  },
  {
   "cell_type": "code",
   "execution_count": 22,
   "metadata": {},
   "outputs": [
    {
     "data": {
      "text/plain": [
       "{1: 10, 2: 20, 3: 30, 4: 40, 5: 50, 6: 60}"
      ]
     },
     "execution_count": 22,
     "metadata": {},
     "output_type": "execute_result"
    }
   ],
   "source": [
    "dic1={1:10, 2:20} \n",
    "dic2={3:30, 4:40} \n",
    "dic3={5:50,6:60}\n",
    "list_of_dics = [dic1, dic2, dic3]\n",
    "mixed_dic = {}\n",
    "for i in list_of_dics:\n",
    "    for key, value in i.items():\n",
    "        mixed_dic[key] = value\n",
    "mixed_dic"
   ]
  },
  {
   "cell_type": "markdown",
   "metadata": {},
   "source": [
    "<b> 4. Write a Python script to check if a given key already exists in a dictionary."
   ]
  },
  {
   "cell_type": "code",
   "execution_count": 23,
   "metadata": {},
   "outputs": [
    {
     "name": "stdout",
     "output_type": "stream",
     "text": [
      "Enter a key: \n"
     ]
    },
    {
     "ename": "ValueError",
     "evalue": "invalid literal for int() with base 10: ''",
     "output_type": "error",
     "traceback": [
      "\u001b[1;31m---------------------------------------------------------------------------\u001b[0m",
      "\u001b[1;31mValueError\u001b[0m                                Traceback (most recent call last)",
      "\u001b[1;32m<ipython-input-23-cd33ca8c0cc2>\u001b[0m in \u001b[0;36m<module>\u001b[1;34m\u001b[0m\n\u001b[0;32m      1\u001b[0m \u001b[0mdictionary\u001b[0m \u001b[1;33m=\u001b[0m \u001b[1;33m{\u001b[0m\u001b[1;36m1\u001b[0m\u001b[1;33m:\u001b[0m \u001b[1;36m10\u001b[0m\u001b[1;33m,\u001b[0m \u001b[1;36m2\u001b[0m\u001b[1;33m:\u001b[0m \u001b[1;36m20\u001b[0m\u001b[1;33m,\u001b[0m \u001b[1;36m3\u001b[0m\u001b[1;33m:\u001b[0m \u001b[1;36m30\u001b[0m\u001b[1;33m,\u001b[0m \u001b[1;36m4\u001b[0m\u001b[1;33m:\u001b[0m \u001b[1;36m40\u001b[0m\u001b[1;33m,\u001b[0m \u001b[1;36m5\u001b[0m\u001b[1;33m:\u001b[0m \u001b[1;36m50\u001b[0m\u001b[1;33m,\u001b[0m \u001b[1;36m6\u001b[0m\u001b[1;33m:\u001b[0m \u001b[1;36m60\u001b[0m\u001b[1;33m}\u001b[0m\u001b[1;33m\u001b[0m\u001b[0m\n\u001b[1;32m----> 2\u001b[1;33m \u001b[0mkey\u001b[0m \u001b[1;33m=\u001b[0m \u001b[0mint\u001b[0m\u001b[1;33m(\u001b[0m\u001b[0minput\u001b[0m\u001b[1;33m(\u001b[0m\u001b[1;34m\"Enter a key: \"\u001b[0m\u001b[1;33m)\u001b[0m\u001b[1;33m)\u001b[0m\u001b[1;33m\u001b[0m\u001b[0m\n\u001b[0m\u001b[0;32m      3\u001b[0m \u001b[1;32mif\u001b[0m \u001b[0mkey\u001b[0m \u001b[1;32min\u001b[0m \u001b[0mdictionary\u001b[0m\u001b[1;33m:\u001b[0m\u001b[1;33m\u001b[0m\u001b[0m\n\u001b[0;32m      4\u001b[0m     \u001b[0mprint\u001b[0m\u001b[1;33m(\u001b[0m\u001b[1;34m\"Key \"\u001b[0m\u001b[1;33m+\u001b[0m\u001b[0mstr\u001b[0m\u001b[1;33m(\u001b[0m\u001b[0mkey\u001b[0m\u001b[1;33m)\u001b[0m\u001b[1;33m+\u001b[0m\u001b[1;34m\" is already present\"\u001b[0m\u001b[1;33m)\u001b[0m\u001b[1;33m\u001b[0m\u001b[0m\n\u001b[0;32m      5\u001b[0m \u001b[1;32melse\u001b[0m\u001b[1;33m:\u001b[0m\u001b[1;33m\u001b[0m\u001b[0m\n",
      "\u001b[1;31mValueError\u001b[0m: invalid literal for int() with base 10: ''"
     ]
    }
   ],
   "source": [
    "\n",
    "\n",
    "dictionary = {1: 10, 2: 20, 3: 30, 4: 40, 5: 50, 6: 60}\n",
    "key = int(input(\"Enter a key: \"))\n",
    "if key in dictionary:\n",
    "    print(\"Key \"+str(key)+\" is already present\")\n",
    "else:\n",
    "    dict[key] = 70\n",
    "dict"
   ]
  },
  {
   "cell_type": "markdown",
   "metadata": {},
   "source": [
    "<b> 5. Write a Python program to iterate over dictionaries using for loops. "
   ]
  },
  {
   "cell_type": "code",
   "execution_count": 24,
   "metadata": {},
   "outputs": [
    {
     "name": "stdout",
     "output_type": "stream",
     "text": [
      "1 => 10\n",
      "2 => 20\n",
      "3 => 30\n",
      "4 => 40\n",
      "5 => 50\n",
      "6 => 60\n"
     ]
    }
   ],
   "source": [
    "\n",
    "dictionary = {1: 10, 2: 20, 3: 30, 4: 40, 5: 50, 6: 60}\n",
    "for k, v in dictionary.items():\n",
    "    print(str(k)+\" => \"+str(v))"
   ]
  },
  {
   "cell_type": "markdown",
   "metadata": {},
   "source": [
    "<b> 6.Write a Python script to generate and print a dictionary that contains a number (between 1 and n) in the form (x, x*x).</b> <br>\n",
    "Sample Dictionary ( n = 5) : <br>\n",
    "Expected Output : {1: 1, 2: 4, 3: 9, 4: 16, 5: 25}"
   ]
  },
  {
   "cell_type": "code",
   "execution_count": 25,
   "metadata": {},
   "outputs": [
    {
     "name": "stdout",
     "output_type": "stream",
     "text": [
      "Enter a range of dictionary: 7\n"
     ]
    },
    {
     "data": {
      "text/plain": [
       "{1: 1, 2: 4, 3: 9, 4: 16, 5: 25, 6: 36, 7: 49}"
      ]
     },
     "execution_count": 25,
     "metadata": {},
     "output_type": "execute_result"
    }
   ],
   "source": [
    "n = int(input(\"Enter a range of dictionary: \"))\n",
    "dictionary = {}\n",
    "for i in range(1, n+1):\n",
    "    dictionary[i] = i*i\n",
    "dictionary    "
   ]
  },
  {
   "cell_type": "markdown",
   "metadata": {},
   "source": [
    "<b> 7. Write a Python script to print a dictionary where the keys are numbers between 1 and 15 (both included) and the values are square of keys.</b><br>\n",
    "Sample Dictionary:\n",
    "{1: 1, 2: 4, 3: 9, 4: 16, 5: 25, 6: 36, 7: 49, 8: 64, 9: 81, 10: 100, 11: 121, 12: 144, 13: 169, 14: 196, 15: 225}"
   ]
  },
  {
   "cell_type": "code",
   "execution_count": 26,
   "metadata": {},
   "outputs": [
    {
     "data": {
      "text/plain": [
       "{1: 1,\n",
       " 2: 4,\n",
       " 3: 9,\n",
       " 4: 16,\n",
       " 5: 25,\n",
       " 6: 36,\n",
       " 7: 49,\n",
       " 8: 64,\n",
       " 9: 81,\n",
       " 10: 100,\n",
       " 11: 121,\n",
       " 12: 144,\n",
       " 13: 169,\n",
       " 14: 196,\n",
       " 15: 225}"
      ]
     },
     "execution_count": 26,
     "metadata": {},
     "output_type": "execute_result"
    }
   ],
   "source": [
    "\n",
    "\n",
    "dictionary = {}\n",
    "for i in range(1, 16):\n",
    "    dictionary[i] = i*i\n",
    "dictionary    "
   ]
  },
  {
   "cell_type": "markdown",
   "metadata": {},
   "source": [
    "<b> 8. Write a Python script to merge two Python dictionaries."
   ]
  },
  {
   "cell_type": "code",
   "execution_count": 27,
   "metadata": {},
   "outputs": [
    {
     "data": {
      "text/plain": [
       "{1: 'Rahima', 2: 'Alishba', 3: 'Fizza', 4: 'Bilal', 5: 'Arbab', 6: 'Shahzor'}"
      ]
     },
     "execution_count": 27,
     "metadata": {},
     "output_type": "execute_result"
    }
   ],
   "source": [
    "\n",
    "\n",
    "lovers = {1: 'Rahima', 2: 'Alishba', 3: 'Fizza'}\n",
    "friends = {4: 'Bilal', 5: 'Arbab', 6: 'Shahzor'}\n",
    "list_of_dicts = [lovers, friends]\n",
    "mixed_dic = {}\n",
    "for i in list_of_dicts:\n",
    "    for k, v in i.items():\n",
    "        mixed_dic[k] = v\n",
    "        \n",
    "mixed_dic"
   ]
  },
  {
   "cell_type": "markdown",
   "metadata": {},
   "source": [
    "<b> 10. Write a Python program to sum all the items in a dictionary."
   ]
  },
  {
   "cell_type": "code",
   "execution_count": 28,
   "metadata": {},
   "outputs": [
    {
     "name": "stdout",
     "output_type": "stream",
     "text": [
      "210\n"
     ]
    }
   ],
   "source": [
    "\n",
    "\n",
    "dictionary = {1: 10, 2: 20, 3: 30, 4: 40, 5: 50, 6: 60}\n",
    "total = 0\n",
    "for val in dictionary.values():\n",
    "    total+= val \n",
    "total                 #OR\n",
    "\n",
    "print(sum(dictionary.values()))"
   ]
  },
  {
   "cell_type": "markdown",
   "metadata": {},
   "source": [
    "<b> 11. Write a Python program to multiply all the items in a dictionary."
   ]
  },
  {
   "cell_type": "code",
   "execution_count": 29,
   "metadata": {},
   "outputs": [
    {
     "data": {
      "text/plain": [
       "720000000"
      ]
     },
     "execution_count": 29,
     "metadata": {},
     "output_type": "execute_result"
    }
   ],
   "source": [
    "\n",
    "\n",
    "dictionary = {1: 10, 2: 20, 3: 30, 4: 40, 5: 50, 6: 60}\n",
    "total = 1\n",
    "for val in dictionary.values():\n",
    "    total*= val \n",
    "total"
   ]
  },
  {
   "cell_type": "markdown",
   "metadata": {},
   "source": [
    "<b> 12. Write a Python program to remove a key from a dictionary."
   ]
  },
  {
   "cell_type": "code",
   "execution_count": 30,
   "metadata": {},
   "outputs": [
    {
     "name": "stdout",
     "output_type": "stream",
     "text": [
      "Enter an integer: 9\n",
      "9 is not in a key\n"
     ]
    },
    {
     "data": {
      "text/plain": [
       "{1: 10, 2: 20, 3: 30, 4: 40, 5: 50, 6: 60}"
      ]
     },
     "execution_count": 30,
     "metadata": {},
     "output_type": "execute_result"
    }
   ],
   "source": [
    "\n",
    "\n",
    "dictionary = {1: 10, 2: 20, 3: 30, 4: 40, 5: 50, 6: 60}\n",
    "n = int(input(\"Enter an integer: \"))\n",
    "if n in dictionary:\n",
    "    del(dictionary[n])\n",
    "else:\n",
    "    print(str(n)+\" is not in a key\")\n",
    "dictionary"
   ]
  },
  {
   "cell_type": "markdown",
   "metadata": {},
   "source": [
    "<b> 13. Write a Python program to map two lists into a dictionary.12. Write a Python program to remove a key from a dictionary."
   ]
  },
  {
   "cell_type": "code",
   "execution_count": 31,
   "metadata": {},
   "outputs": [
    {
     "data": {
      "text/plain": [
       "['Bilal', 'Shahzor', 'Arbab']"
      ]
     },
     "execution_count": 31,
     "metadata": {},
     "output_type": "execute_result"
    }
   ],
   "source": [
    "\n",
    "\n",
    "dicts = {\"lovers\": [\"Rahima\", 'Alishba', 'Fizza'],\n",
    "         \"friends\": [\"Bilal\", 'Shahzor', 'Arbab']}\n",
    "dicts['friends']"
   ]
  },
  {
   "cell_type": "markdown",
   "metadata": {},
   "source": [
    "<b> 14. Write a Python program to sort a dictionary by key."
   ]
  },
  {
   "cell_type": "code",
   "execution_count": 32,
   "metadata": {},
   "outputs": [
    {
     "data": {
      "text/plain": [
       "{1: 60, 2: 50, 3: 40, 4: 30, 5: 20, 6: 10}"
      ]
     },
     "execution_count": 32,
     "metadata": {},
     "output_type": "execute_result"
    }
   ],
   "source": [
    "\n",
    "nums = {6: 10, 5: 20, 4: 30, 3: 40, 2: 50, 1: 60}\n",
    "sorted_nums = {}\n",
    "for k, v in sorted(nums.items()):\n",
    "    sorted_nums[k] = v\n",
    "sorted_nums"
   ]
  },
  {
   "cell_type": "markdown",
   "metadata": {},
   "source": [
    "<b> 15. Write a Python program to get the maximum and minimum value in a dictionary."
   ]
  },
  {
   "cell_type": "code",
   "execution_count": 33,
   "metadata": {},
   "outputs": [
    {
     "name": "stdout",
     "output_type": "stream",
     "text": [
      "10\n",
      "20\n",
      "30\n",
      "40\n",
      "50\n",
      "60\n"
     ]
    }
   ],
   "source": [
    "\n",
    "\n",
    "dictionary = {1: 60, 2: 50, 3: 40, 4: 30, 5: 20, 6: 10}\n",
    "for value in sorted(dictionary.values()):\n",
    "    print(value)\n",
    "\n",
    "# How to access key through value without loop of k, v"
   ]
  },
  {
   "cell_type": "markdown",
   "metadata": {},
   "source": [
    "<b> 16. Write a Python program to remove duplicates from Dictionary."
   ]
  },
  {
   "cell_type": "code",
   "execution_count": 34,
   "metadata": {},
   "outputs": [
    {
     "data": {
      "text/plain": [
       "{1: 60, 2: 50, 3: 40, 4: 30, 5: 20, 6: 10}"
      ]
     },
     "execution_count": 34,
     "metadata": {},
     "output_type": "execute_result"
    }
   ],
   "source": [
    "\n",
    "dictionary = {1: 60, 2: 50, 3: 40, 4: 30, 5: 20, 6: 10, 7:60, 8:50}\n",
    "new_dict = {}\n",
    "for k, v in (dictionary.items()):\n",
    "    if v not in new_dict.values():\n",
    "        new_dict[k] = v        \n",
    "new_dict"
   ]
  },
  {
   "cell_type": "markdown",
   "metadata": {},
   "source": [
    "<b> 17. Write a Python program to check a dictionary is empty or not."
   ]
  },
  {
   "cell_type": "code",
   "execution_count": 35,
   "metadata": {},
   "outputs": [
    {
     "name": "stdout",
     "output_type": "stream",
     "text": [
      "Dictionary is empty\n"
     ]
    }
   ],
   "source": [
    "\n",
    "dictionary = {}\n",
    "if dictionary:\n",
    "    print(\"Dictionary is not empty\")\n",
    "else:\n",
    "    print(\"Dictionary is empty\")"
   ]
  },
  {
   "cell_type": "markdown",
   "metadata": {},
   "source": [
    "<b> 18. Write a Python program to combine two dictionary adding values for common keys.</b><br>\n",
    "d1 = {'a': 100, 'b': 200, 'c':300}<br>\n",
    "d2 = {'a': 300, 'b': 200, 'd':400}<br>\n",
    "Sample output: Counter({'a': 400, 'b': 400, 'd': 400, 'c': 300})"
   ]
  },
  {
   "cell_type": "code",
   "execution_count": 36,
   "metadata": {},
   "outputs": [
    {
     "data": {
      "text/plain": [
       "{'a': 300, 'b': 200, 'd': 400, 'c': 300}"
      ]
     },
     "execution_count": 36,
     "metadata": {},
     "output_type": "execute_result"
    }
   ],
   "source": [
    "\n",
    "\n",
    "d1 = {'a': 100, 'b': 200, 'c':300}\n",
    "d2 = {'a': 300, 'b': 200, 'd':400}\n",
    "combine_dict = {}\n",
    "for k1, v1 in d1.items():\n",
    "    for k2,v2 in d2.items():\n",
    "        if k1 == k2:\n",
    "            combine_dict[k1] = v1 + v2\n",
    "        else:\n",
    "            combine_dict[k1] = v1\n",
    "            combine_dict[k2] = v2\n",
    "combine_dict"
   ]
  },
  {
   "cell_type": "markdown",
   "metadata": {},
   "source": [
    "<b> 19. Write a Python program to print all unique values in a dictionary.</b><br>\n",
    "Sample Data : [{\"V\":\"S001\"}, {\"V\": \"S002\"}, {\"VI\": \"S001\"}, {\"VI\": \"S005\"}, {\"VII\":\"S005\"}, {\"V\":\"S009\"},{\"VIII\":\"S007\"}]<br>\n",
    "Expected Output : Unique Values: {'S005', 'S002', 'S007', 'S001', 'S009'}"
   ]
  },
  {
   "cell_type": "code",
   "execution_count": 37,
   "metadata": {},
   "outputs": [
    {
     "data": {
      "text/plain": [
       "'S007'"
      ]
     },
     "execution_count": 37,
     "metadata": {},
     "output_type": "execute_result"
    }
   ],
   "source": [
    "\n",
    "\n",
    "list_of_dict = [{\"V\":\"S001\"}, {\"V\": \"S002\"},{\"VI\": \"S001\"}, {\"VI\": \"S005\"}, {\"VII\":\"S005\"}, {\"V\":\"S009\"},{\"VIII\":\"S007\"}]\n",
    "unique_values = {}\n",
    "for i in list_of_dict:\n",
    "    for value in i.values():\n",
    "        if value not in unique_values:\n",
    "            unique_values = value\n",
    "unique_values\n",
    "# dekhna h sirf values dictionary me kese daali jaati hain"
   ]
  },
  {
   "cell_type": "markdown",
   "metadata": {},
   "source": [
    "<b> 20. Write a Python program to create and display all combinations of letters, selecting each letter from a different key in a dictionary.</b> <br>\n",
    "Sample data : {'1':['a','b'], '2':['c','d']}<br>\n",
    "Expected Output: <br>\n",
    "ac<br>\n",
    "ad<br>\n",
    "bc<br>\n",
    "bd\n"
   ]
  },
  {
   "cell_type": "code",
   "execution_count": 38,
   "metadata": {},
   "outputs": [
    {
     "ename": "SyntaxError",
     "evalue": "unexpected EOF while parsing (<ipython-input-38-e46276e0b1a1>, line 3)",
     "output_type": "error",
     "traceback": [
      "\u001b[1;36m  File \u001b[1;32m\"<ipython-input-38-e46276e0b1a1>\"\u001b[1;36m, line \u001b[1;32m3\u001b[0m\n\u001b[1;33m    #     baad me karoonga\u001b[0m\n\u001b[1;37m                          ^\u001b[0m\n\u001b[1;31mSyntaxError\u001b[0m\u001b[1;31m:\u001b[0m unexpected EOF while parsing\n"
     ]
    }
   ],
   "source": [
    "\n",
    "dictionary  = {'1':['a','b'], '2':['c','d']}\n",
    "for k, v in dictionary.items():\n",
    "#     baad me karoonga"
   ]
  },
  {
   "cell_type": "markdown",
   "metadata": {},
   "source": [
    "<b> 21. Write a Python program to match key values in two dictionaries.</b><br>\n",
    "Sample dictionary: {'key1': 1, 'key2': 3, 'key3': 2}, {'key1': 1, 'key2': 2}<br>\n",
    "Expected output: key1: 1 is present in both x and y"
   ]
  },
  {
   "cell_type": "code",
   "execution_count": 39,
   "metadata": {},
   "outputs": [
    {
     "name": "stdout",
     "output_type": "stream",
     "text": [
      "key1: 1 is present in both dict1 and dict2\n"
     ]
    }
   ],
   "source": [
    "\n",
    "\n",
    "dict1 = {'key1': 1, 'key2': 3, 'key3': 2}\n",
    "dict2 = {'key1': 1, 'key2': 2}\n",
    "\n",
    "for k1, v1 in dict1.items():\n",
    "    for k2, v2 in dict2.items():\n",
    "        if k1 == k2:\n",
    "            if v1 == v2:\n",
    "                print(k1+\": \"+str(v1)+\" is present in both dict1 and dict2\")\n"
   ]
  },
  {
   "cell_type": "markdown",
   "metadata": {},
   "source": [
    "<b> 22. Write a Python program to create a dictionary from two lists without losing duplicate values.</b><br>\n",
    "Sample lists: ['Class-V', 'Class-VI', 'Class-VII', 'Class-VIII'], [1, 2, 2, 3]<br>\n",
    "Expected Output: defaultdict(<class 'set'>, {'Class-VII': {2}, 'Class-VI': {2}, 'Class-VIII': {3}, 'Class-V': {1}})"
   ]
  },
  {
   "cell_type": "code",
   "execution_count": 40,
   "metadata": {},
   "outputs": [
    {
     "data": {
      "text/plain": [
       "{'Class-V': 1, 'Class-VI': 2, 'Class-VII': 2, 'Class-VIII': 3}"
      ]
     },
     "execution_count": 40,
     "metadata": {},
     "output_type": "execute_result"
    }
   ],
   "source": [
    "\n",
    "\n",
    "class_list = ['Class-V', 'Class-VI', 'Class-VII', 'Class-VIII']\n",
    "num_list = [1, 2, 2, 3]\n",
    "dictionary = {}\n",
    "for i in range(0, len(class_list)):\n",
    "    dictionary[class_list[i]] = num_list[i]\n",
    "dictionary\n",
    "# dye gay method ko dekhna parega"
   ]
  },
  {
   "cell_type": "markdown",
   "metadata": {},
   "source": [
    "<b> 23. Write a Python program to sort Counter by value.</b><br>\n",
    "Sample data : {'Math':81, 'Physics':83, 'Chemistry':87} <br>\n",
    "Expected data: [('Chemistry', 87), ('Physics', 83), ('Math', 81)]"
   ]
  },
  {
   "cell_type": "code",
   "execution_count": 41,
   "metadata": {},
   "outputs": [
    {
     "name": "stdout",
     "output_type": "stream",
     "text": [
      "[('Chemistry', 87), ('Physics', 83), ('Math', 81)]\n"
     ]
    }
   ],
   "source": [
    "\n",
    "from collections import Counter\n",
    "data = {'Math':81, 'Physics':83, 'Chemistry':87}\n",
    "x = Counter({'Math':81, 'Physics':83, 'Chemistry':87})\n",
    "print(x.most_common())\n",
    "# is ka doosra or asal tareeqa dekhna h or karna h"
   ]
  },
  {
   "cell_type": "markdown",
   "metadata": {},
   "source": [
    "<b> 24. Write a Python program to count number of items in a dictionary value that is a list.</b>"
   ]
  },
  {
   "cell_type": "code",
   "execution_count": 42,
   "metadata": {},
   "outputs": [
    {
     "data": {
      "text/plain": [
       "5"
      ]
     },
     "execution_count": 42,
     "metadata": {},
     "output_type": "execute_result"
    }
   ],
   "source": [
    "\n",
    "dict =  {'Alex': ['subj1', 'subj2', 'subj3'], 'David': ['subj1', 'subj2']}\n",
    "total = 0\n",
    "for val in dict.values():\n",
    "    total+= len(val)\n",
    "total"
   ]
  },
  {
   "cell_type": "markdown",
   "metadata": {},
   "source": [
    "<b> 25. Write a Python program to check multiple keys exists in a dictionary."
   ]
  },
  {
   "cell_type": "code",
   "execution_count": 43,
   "metadata": {},
   "outputs": [
    {
     "name": "stdout",
     "output_type": "stream",
     "text": [
      "True\n",
      "False\n",
      "True\n"
     ]
    }
   ],
   "source": [
    "\n",
    "student = {\n",
    "  'name': 'Alex',\n",
    "  'class': 'V',\n",
    "  'roll_id': '2'\n",
    "}\n",
    "print(student.keys() >= {'class', 'name'})\n",
    "print(student.keys() >= {'name', 'Alex'})\n",
    "print(student.keys() >= {'roll_id', 'name'})\n"
   ]
  },
  {
   "cell_type": "markdown",
   "metadata": {},
   "source": [
    "<b> 26. Write a Python program to print a dictionary line by line."
   ]
  },
  {
   "cell_type": "code",
   "execution_count": 44,
   "metadata": {},
   "outputs": [
    {
     "name": "stdout",
     "output_type": "stream",
     "text": [
      "Aex\n",
      "class: V\n",
      "rolld_id: 2\n",
      "Puja\n",
      "class: V\n",
      "roll_id: 3\n"
     ]
    }
   ],
   "source": [
    "\n",
    "students = {'Aex':{'class':'V',\n",
    "        'rolld_id':2},\n",
    "        'Puja':{'class':'V',\n",
    "        'roll_id':3}}\n",
    "\n",
    "for key, value in students.items():\n",
    "    print(key)\n",
    "    for k,v in value.items():\n",
    "        print(k+\": \"+str(v))"
   ]
  },
  {
   "cell_type": "markdown",
   "metadata": {},
   "source": [
    "<b> 27. Write a Python program to get the key, value and item in a dictionary."
   ]
  },
  {
   "cell_type": "code",
   "execution_count": 45,
   "metadata": {},
   "outputs": [
    {
     "name": "stdout",
     "output_type": "stream",
     "text": [
      "Key    Value    Count\n",
      " 1      10        1\n",
      " 2      20        2\n",
      " 3      30        3\n",
      " 4      40        4\n",
      " 5      50        5\n",
      " 6      60        6\n"
     ]
    }
   ],
   "source": [
    "\n",
    "dict_num = {1: 10, 2: 20, 3: 30, 4: 40, 5: 50, 6: 60}\n",
    "n = 0\n",
    "print(\"Key    Value    Count\")\n",
    "for key, value in dict_num.items():\n",
    "    n+=1\n",
    "    print(\" \"+str(key)+\"      \"+str(value)+\"        \"+str(n))"
   ]
  },
  {
   "cell_type": "markdown",
   "metadata": {},
   "source": [
    "<b> Write a Python program to remove spaces from dictionary keys."
   ]
  },
  {
   "cell_type": "code",
   "execution_count": 46,
   "metadata": {},
   "outputs": [
    {
     "data": {
      "text/plain": [
       "{1: 10, 3: 30}"
      ]
     },
     "execution_count": 46,
     "metadata": {},
     "output_type": "execute_result"
    }
   ],
   "source": [
    "\n",
    "dict_num = {1: 10, \" \": 20, 3: 30,\" \":40}\n",
    "if \" \" in dict_num:\n",
    "    del(dict_num[\" \"])\n",
    "dict_num    "
   ]
  },
  {
   "cell_type": "markdown",
   "metadata": {},
   "source": [
    "<b> 29. Write a Python program to sort a list alphabetically in a dictionary."
   ]
  },
  {
   "cell_type": "code",
   "execution_count": 47,
   "metadata": {},
   "outputs": [
    {
     "data": {
      "text/plain": [
       "{'Math': ['Ahmer', 'Faisal', 'Maria', 'Naseem', 'Noshad'],\n",
       " 'Physics': ['Adeel', 'Farooq', 'Kanwal'],\n",
       " 'Chemistry': ['Fahad', 'Noman']}"
      ]
     },
     "execution_count": 47,
     "metadata": {},
     "output_type": "execute_result"
    }
   ],
   "source": [
    "\n",
    "teachers = {\"Math\": ['Naseem', 'Ahmer', 'Noshad', 'Faisal', 'Maria'],\n",
    "             \"Physics\": ['Farooq', 'Adeel', 'Kanwal'],\n",
    "           \"Chemistry\": ['Noman','Fahad']}\n",
    "for k, v in teachers.items():\n",
    "    teachers[k] = sorted(v)\n",
    "teachers"
   ]
  },
  {
   "cell_type": "markdown",
   "metadata": {},
   "source": [
    "<b> 30. Write a Python program to count the values associated with key in a dictionary.</b><br> \n",
    "Sample data: = [{'id': 1, 'success': True, 'name': 'Lary'}, {'id': 2, 'success': False, 'name': 'Rabi'}, {'id': 3, 'success': True, 'name': 'Alex'}]<br>\n",
    "Expected result: Count of how many dictionaries have success as True\n"
   ]
  },
  {
   "cell_type": "code",
   "execution_count": 48,
   "metadata": {},
   "outputs": [
    {
     "data": {
      "text/plain": [
       "2"
      ]
     },
     "execution_count": 48,
     "metadata": {},
     "output_type": "execute_result"
    }
   ],
   "source": [
    "\n",
    "data = [{'id': 1, 'success': True, 'name': 'Lary'}, {'id': 2, 'success': False, 'name': 'Rabi'}, {'id': 3, 'success': True, 'name': 'Alex'}]\n",
    "n = 0\n",
    "for i in data:\n",
    "    if i['success']:\n",
    "        n+= 1\n",
    "n\n"
   ]
  },
  {
   "cell_type": "markdown",
   "metadata": {},
   "source": [
    "<br> 31. Write a Python program to print a dictionary in table format."
   ]
  },
  {
   "cell_type": "code",
   "execution_count": 49,
   "metadata": {},
   "outputs": [
    {
     "ename": "IndexError",
     "evalue": "string index out of range",
     "output_type": "error",
     "traceback": [
      "\u001b[1;31m---------------------------------------------------------------------------\u001b[0m",
      "\u001b[1;31mIndexError\u001b[0m                                Traceback (most recent call last)",
      "\u001b[1;32m<ipython-input-49-d60919d91b5b>\u001b[0m in \u001b[0;36m<module>\u001b[1;34m\u001b[0m\n\u001b[0;32m      4\u001b[0m     \u001b[0ms\u001b[0m\u001b[1;33m+=\u001b[0m \u001b[1;34m\"    \"\u001b[0m\u001b[1;33m+\u001b[0m\u001b[0mk\u001b[0m\u001b[1;33m\u001b[0m\u001b[0m\n\u001b[0;32m      5\u001b[0m     \u001b[1;32mfor\u001b[0m \u001b[0mi\u001b[0m \u001b[1;32min\u001b[0m \u001b[0mrange\u001b[0m\u001b[1;33m(\u001b[0m\u001b[1;36m0\u001b[0m\u001b[1;33m,\u001b[0m \u001b[0mlen\u001b[0m\u001b[1;33m(\u001b[0m\u001b[0mv\u001b[0m\u001b[1;33m)\u001b[0m\u001b[1;33m)\u001b[0m\u001b[1;33m:\u001b[0m\u001b[1;33m\u001b[0m\u001b[0m\n\u001b[1;32m----> 6\u001b[1;33m         \u001b[0mk\u001b[0m\u001b[1;33m[\u001b[0m\u001b[0mi\u001b[0m\u001b[1;33m]\u001b[0m\u001b[1;33m\u001b[0m\u001b[0m\n\u001b[0m\u001b[0;32m      7\u001b[0m \u001b[1;31m# baad me kabhi\u001b[0m\u001b[1;33m\u001b[0m\u001b[1;33m\u001b[0m\u001b[0m\n",
      "\u001b[1;31mIndexError\u001b[0m: string index out of range"
     ]
    }
   ],
   "source": [
    "\n",
    "my_dict = {'C1':[1,2,3],'C2':[5,6,7],'C3':[9,10,11] }\n",
    "s = ''\n",
    "for k,v in my_dict.items():\n",
    "    s+= \"    \"+k\n",
    "    for i in range(0, len(v)):\n",
    "        k[i]\n",
    "# baad me kabhi"
   ]
  },
  {
   "cell_type": "markdown",
   "metadata": {},
   "source": [
    "<b> 32. Write a Python program to create a dictionary from a string.</b><br>\n",
    "Note: Track the count of the letters from the string.<br>\n",
    "Sample string : 'w3resource'<br>\n",
    "Expected output: {'3': 1, 's': 1, 'r': 2, 'u': 1, 'w': 1, 'c': 1, 'e': 2, 'o': 1}"
   ]
  },
  {
   "cell_type": "code",
   "execution_count": 50,
   "metadata": {},
   "outputs": [
    {
     "data": {
      "text/plain": [
       "{'w': 1, '3': 1, 'r': 2, 'e': 2, 's': 4, 'o': 1, 'u': 1, 'c': 1}"
      ]
     },
     "execution_count": 50,
     "metadata": {},
     "output_type": "execute_result"
    }
   ],
   "source": [
    "\n",
    "string = 'w3resourcesss'\n",
    "dict_letter_count = {}\n",
    "for i in string:\n",
    "    if i not in dict_letter_count.keys():\n",
    "        dict_letter_count[i] = 1\n",
    "    else:\n",
    "        dict_letter_count[i] += 1 # ye plus kese horaha h bilkul samajh nahei aaraha\n",
    "dict_letter_count\n",
    "# baad me is par khoob ghoro hoz kara h"
   ]
  },
  {
   "cell_type": "markdown",
   "metadata": {},
   "source": [
    "<b> 33. Write a Python program to combine values in python list of dictionaries.</b><br>\n",
    "Sample data: [{'item': 'item1', 'amount': 400}, {'item': 'item2', 'amount': 300}, {'item': 'item1', 'amount': 750}]<br>\n",
    "Expected Output: Counter({'item1': 1150, 'item2': 300})\n"
   ]
  },
  {
   "cell_type": "code",
   "execution_count": 51,
   "metadata": {},
   "outputs": [
    {
     "data": {
      "text/plain": [
       "{'item': 'item1', 'amount': 750}"
      ]
     },
     "execution_count": 51,
     "metadata": {},
     "output_type": "execute_result"
    }
   ],
   "source": [
    "\n",
    "data = [{'item': 'item1', 'amount': 400},\n",
    "        {'item': 'item2', 'amount': 300},\n",
    "        {'item': 'item1', 'amount': 750}]\n",
    "new_data = {}\n",
    "for i in data:\n",
    "    for k,v in i.items():\n",
    "        if v not in new_data:\n",
    "            new_data[k] = v\n",
    "        \n",
    "new_data            \n",
    "    "
   ]
  },
  {
   "cell_type": "markdown",
   "metadata": {},
   "source": [
    "<b> 34. Write a python program to count the frequency of word in a sentence"
   ]
  },
  {
   "cell_type": "code",
   "execution_count": 53,
   "metadata": {},
   "outputs": [
    {
     "name": "stdout",
     "output_type": "stream",
     "text": [
      "Enter a sentence: Alisba is my true love\n"
     ]
    },
    {
     "data": {
      "text/plain": [
       "{'Alisba': 1, 'is': 1, 'my': 1, 'true': 1, 'love': 1}"
      ]
     },
     "execution_count": 53,
     "metadata": {},
     "output_type": "execute_result"
    }
   ],
   "source": [
    "\n",
    "\n",
    "sentence = input(\"Enter a sentence: \")\n",
    "words = sentence.split()\n",
    "unique_words = []\n",
    "n = 1\n",
    "for i in words:\n",
    "    if i not in unique_words:\n",
    "        unique_words.append(i)\n",
    "frequency = []\n",
    "word_freq = {}\n",
    "n = 0\n",
    "for i in unique_words:\n",
    "    n = 0\n",
    "    for j in words:\n",
    "        if i == j:\n",
    "            n+=1\n",
    "    frequency.append(n)\n",
    "index = 0\n",
    "for i in unique_words:\n",
    "    word_freq[i] = frequency[index]\n",
    "    index+= 1\n",
    "word_freq"
   ]
  },
  {
   "cell_type": "code",
   "execution_count": null,
   "metadata": {},
   "outputs": [],
   "source": []
  },
  {
   "cell_type": "code",
   "execution_count": null,
   "metadata": {},
   "outputs": [],
   "source": []
  }
 ],
 "metadata": {
  "kernelspec": {
   "display_name": "Python 3",
   "language": "python",
   "name": "python3"
  },
  "language_info": {
   "codemirror_mode": {
    "name": "ipython",
    "version": 3
   },
   "file_extension": ".py",
   "mimetype": "text/x-python",
   "name": "python",
   "nbconvert_exporter": "python",
   "pygments_lexer": "ipython3",
   "version": "3.6.5"
  }
 },
 "nbformat": 4,
 "nbformat_minor": 2
}
